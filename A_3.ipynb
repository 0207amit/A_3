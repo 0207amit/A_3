{
 "cells": [
  {
   "cell_type": "markdown",
   "id": "25f6c420",
   "metadata": {},
   "source": [
    "# 1. Why are functions advantageous to have in your programs?\n",
    "\n",
    "# Ans.\n",
    "\n",
    "Functions are advantageous to have in programs for several reasons:\n",
    "\n",
    "### 1. Modularity: \n",
    "Functions allow us to break down a complex problem into smaller, manageable pieces of code.\n",
    "\n",
    "### 2. Reusability: \n",
    "Once we've defined a function to perform a specific task, we can reuse that function in different parts of your program or even in different programs altogether.\n",
    "\n",
    "### 3. Readability: \n",
    "Well-named functions make our code more readable and self-explanatory.\n",
    "\n",
    "### 4. Abstraction: \n",
    "Functions abstract away the details of how a certain task is performed. This means that we can use a function without needing to know the intricate implementation details. This abstraction allows you to focus on the higher-level logic of your program.\n",
    "\n",
    "### 5. Testing and Debugging: \n",
    "Functions make it easier to isolate and test specific parts of our code.\n"
   ]
  },
  {
   "cell_type": "markdown",
   "id": "2a692dab",
   "metadata": {},
   "source": [
    "# 2. When does the code in a function run: when it&#39;s specified or when it&#39;s called?\n",
    "\n",
    "# Ans.\n",
    "\n",
    "The code within a function runs when the function is called. Defining a function does not execute the code inside it. It's only when we call the function using its name followed by parentheses (function_name()) that the code inside the function is executed.\n",
    "\n",
    "Eg."
   ]
  },
  {
   "cell_type": "code",
   "execution_count": 1,
   "id": "6a4c7603",
   "metadata": {},
   "outputs": [
    {
     "name": "stdout",
     "output_type": "stream",
     "text": [
      "Hello, World!\n"
     ]
    }
   ],
   "source": [
    "def func():\n",
    "    print(\"Hello, World!\")\n",
    "\n",
    "# Function defined, but code doesn't run yet\n",
    "\n",
    "# Call the function to execute the code inside it\n",
    "func()\n"
   ]
  },
  {
   "cell_type": "markdown",
   "id": "1fb1a966",
   "metadata": {},
   "source": [
    "# 3. What statement creates a function?\n",
    "\n",
    "\n",
    "# Ans.\n",
    "\n",
    "In Python, a function is created using the def keyword followed by the function name and a set of parentheses containing any parameters the function should accept.\n",
    "\n",
    "Eg."
   ]
  },
  {
   "cell_type": "code",
   "execution_count": 5,
   "id": "117a0e32",
   "metadata": {},
   "outputs": [
    {
     "data": {
      "text/plain": [
       "7"
      ]
     },
     "execution_count": 5,
     "metadata": {},
     "output_type": "execute_result"
    }
   ],
   "source": [
    "def add(a, b):    # creation of funtion named add.\n",
    "    return a + b\n",
    "\n",
    "add(3,4)"
   ]
  },
  {
   "cell_type": "markdown",
   "id": "99d3607e",
   "metadata": {},
   "source": [
    "# 4. What is the difference between a function and a function call?\n",
    "\n",
    "# Ans.\n",
    "\n",
    "### Function: \n",
    "A function is a block of code that performs a specific task or set of tasks. It encapsulates a series of instructions that can be executed whenever the function is called. Functions can take inputs (parameters) and produce outputs (return values). They are used to modularize code, promote reusability, and improve code organization.\n",
    "\n",
    "### Function Call: \n",
    "A function call is an action that instructs the program to execute the code within a specific function. When we call a function, we are telling the program to execute the statements within that function's block of code. To call a function, we use its name followed by parentheses, optionally providing arguments (values) if the function expects any parameters.\n",
    "\n",
    "Eg."
   ]
  },
  {
   "cell_type": "code",
   "execution_count": 7,
   "id": "2408ad25",
   "metadata": {},
   "outputs": [
    {
     "name": "stdout",
     "output_type": "stream",
     "text": [
      "6\n"
     ]
    }
   ],
   "source": [
    "def add(a, b):    # creation of funtion named add.\n",
    "    return a + b\n",
    "\n",
    "a = add(5,1)  #calling the function\n",
    "print(a)"
   ]
  },
  {
   "cell_type": "markdown",
   "id": "5a64f168",
   "metadata": {},
   "source": [
    "# 5. How many global scopes are there in a Python program? How many local scopes?\n",
    "\n",
    "# Ans.\n",
    "\n",
    "In a Python program, there is one global scope and potentially multiple local scopes.\n",
    "\n",
    "### Global Scope: \n",
    "The global scope refers to the top-level scope of a Python program. It's the outermost scope where variables, functions, and classes are defined at the module level. Variables defined in the global scope are accessible throughout the entire program, unless they are shadowed by local variables in nested scopes.\n",
    "\n",
    "### Local Scopes: \n",
    "Local scopes are created within functions and other code blocks, such as loops or conditional statements. Each time a function is called, a new local scope is created for that function. Variables defined within a local scope are only accessible within that specific scope, and they don't interfere with variables of the same name in other scopes.\n",
    "\n",
    "Eg.\n"
   ]
  },
  {
   "cell_type": "code",
   "execution_count": 9,
   "id": "dcdcb955",
   "metadata": {},
   "outputs": [
    {
     "name": "stdout",
     "output_type": "stream",
     "text": [
      "10\n"
     ]
    },
    {
     "ename": "NameError",
     "evalue": "name 'local_var' is not defined",
     "output_type": "error",
     "traceback": [
      "\u001b[1;31m---------------------------------------------------------------------------\u001b[0m",
      "\u001b[1;31mNameError\u001b[0m                                 Traceback (most recent call last)",
      "\u001b[1;32m~\\AppData\\Local\\Temp\\ipykernel_24720\\3052279610.py\u001b[0m in \u001b[0;36m<module>\u001b[1;34m\u001b[0m\n\u001b[0;32m      6\u001b[0m \u001b[1;33m\u001b[0m\u001b[0m\n\u001b[0;32m      7\u001b[0m \u001b[0mdemo\u001b[0m\u001b[1;33m(\u001b[0m\u001b[1;33m)\u001b[0m\u001b[1;33m\u001b[0m\u001b[1;33m\u001b[0m\u001b[0m\n\u001b[1;32m----> 8\u001b[1;33m \u001b[0mprint\u001b[0m\u001b[1;33m(\u001b[0m\u001b[0mlocal_var\u001b[0m\u001b[1;33m)\u001b[0m  \u001b[1;31m# This line would result in an error because local_var is not accessible here\u001b[0m\u001b[1;33m\u001b[0m\u001b[1;33m\u001b[0m\u001b[0m\n\u001b[0m",
      "\u001b[1;31mNameError\u001b[0m: name 'local_var' is not defined"
     ]
    }
   ],
   "source": [
    "global_var = 10  # Variable in the global scope\n",
    "\n",
    "def demo():\n",
    "    local_var = 5  # Variable in the local scope of the function\n",
    "    print(global_var)  # Accessing global_var from the local scope\n",
    "\n",
    "demo()\n",
    "print(local_var)  # This line would result in an error because local_var is not accessible here\n"
   ]
  },
  {
   "cell_type": "markdown",
   "id": "aaca88f2",
   "metadata": {},
   "source": [
    "# 6. What happens to variables in a local scope when the function call returns?\n",
    "\n",
    "# Ans.\n",
    "\n",
    "When a function call in Python returns, the local scope created for that function is destroyed, and the variables defined within that local scope are no longer accessible. This behavior is a fundamental aspect of how Python manages scope and memory.\n",
    "\n",
    "Eg."
   ]
  },
  {
   "cell_type": "code",
   "execution_count": 10,
   "id": "7e0483b0",
   "metadata": {},
   "outputs": [
    {
     "name": "stdout",
     "output_type": "stream",
     "text": [
      "20\n"
     ]
    },
    {
     "ename": "NameError",
     "evalue": "name 'local_var' is not defined",
     "output_type": "error",
     "traceback": [
      "\u001b[1;31m---------------------------------------------------------------------------\u001b[0m",
      "\u001b[1;31mNameError\u001b[0m                                 Traceback (most recent call last)",
      "\u001b[1;32m~\\AppData\\Local\\Temp\\ipykernel_24720\\3175740072.py\u001b[0m in \u001b[0;36m<module>\u001b[1;34m\u001b[0m\n\u001b[0;32m      8\u001b[0m \u001b[1;31m# At this point, the local_var and the function's local scope no longer exist.\u001b[0m\u001b[1;33m\u001b[0m\u001b[1;33m\u001b[0m\u001b[0m\n\u001b[0;32m      9\u001b[0m \u001b[1;33m\u001b[0m\u001b[0m\n\u001b[1;32m---> 10\u001b[1;33m \u001b[0mprint\u001b[0m\u001b[1;33m(\u001b[0m\u001b[0mlocal_var\u001b[0m\u001b[1;33m)\u001b[0m  \u001b[1;31m# This would give error\u001b[0m\u001b[1;33m\u001b[0m\u001b[1;33m\u001b[0m\u001b[0m\n\u001b[0m",
      "\u001b[1;31mNameError\u001b[0m: name 'local_var' is not defined"
     ]
    }
   ],
   "source": [
    "def trial():\n",
    "    local_var = 10\n",
    "    return local_var * 2\n",
    "\n",
    "result = trial()\n",
    "print(result)  # Output: 20\n",
    "\n",
    "# At this point, the local_var and the function's local scope no longer exist.\n",
    "\n",
    "print(local_var)  # This would give error"
   ]
  },
  {
   "cell_type": "markdown",
   "id": "8569f9cf",
   "metadata": {},
   "source": [
    "# 7. What is the concept of a return value? Is it possible to have a return value in an expression?\n",
    "\n",
    "# Ans.\n",
    "\n",
    "The concept of a return value in programming refers to the value that a function provides as its output when it's called and executed. When a function is defined, we can use the return statement to specify what value the function should produce as its result when it's called.\n",
    "\n",
    "Yes, it is indeed possible to have a return value in an expression. When we use a function in an expression, its return value is used as part of that expression.\n",
    "\n",
    "Eg."
   ]
  },
  {
   "cell_type": "code",
   "execution_count": 11,
   "id": "92b65c8f",
   "metadata": {},
   "outputs": [
    {
     "name": "stdout",
     "output_type": "stream",
     "text": [
      "8\n",
      "40\n"
     ]
    }
   ],
   "source": [
    "def add(a, b):\n",
    "    return a + b\n",
    "\n",
    "result = add(3, 5)  # Calling the add function and using its return value in an assignment\n",
    "print(result)       # Output: 8\n",
    "\n",
    "total = add(10, 20) + add(5, 5)  # Using the return values of two add function calls in an expression\n",
    "print(total)                     # Output: 40\n"
   ]
  },
  {
   "cell_type": "markdown",
   "id": "8d89eac8",
   "metadata": {},
   "source": [
    "# 8. If a function does not have a return statement, what is the return value of a call to that function?\n",
    "\n",
    "# Ans.\n",
    "\n",
    "If a function in Python does not have a return statement or if it reaches the end of the function without encountering a return statement, the function will implicitly return None. None is a special built-in constant that represents the absence of a value. It is often used to indicate that a function doesn't produce any meaningful output or result.\n",
    "\n",
    "Eg.\n"
   ]
  },
  {
   "cell_type": "code",
   "execution_count": 12,
   "id": "0ec0b694",
   "metadata": {},
   "outputs": [
    {
     "name": "stdout",
     "output_type": "stream",
     "text": [
      "This function does not have a return statement\n",
      "None\n"
     ]
    }
   ],
   "source": [
    "def trail():\n",
    "    print(\"This function does not have a return statement\")\n",
    "\n",
    "result = trail()\n",
    "print(result)  # Output: None\n"
   ]
  },
  {
   "cell_type": "markdown",
   "id": "f34da401",
   "metadata": {},
   "source": [
    "# 9. How do you make a function variable refer to the global variable?\n",
    "\n",
    "# Ans.\n",
    "\n",
    "In Python, if we want to refer to a global variable from within a function, we can use the global keyword. This allows us to indicate that a particular variable is a global variable, even if there's a local variable with the same name in the function's scope. By using the global keyword, we can modify or access the global variable from within the function.\n",
    "\n",
    "Eg."
   ]
  },
  {
   "cell_type": "code",
   "execution_count": 13,
   "id": "cb306605",
   "metadata": {},
   "outputs": [
    {
     "name": "stdout",
     "output_type": "stream",
     "text": [
      "Before: 10\n",
      "After: 20\n"
     ]
    }
   ],
   "source": [
    "global_var = 10  # Global variable\n",
    "\n",
    "def modify_global():\n",
    "    global global_var  # Declare the variable as global within the function\n",
    "    global_var = 20    # Modify the global variable\n",
    "\n",
    "print(\"Before:\", global_var) # Before function call\n",
    "modify_global()\n",
    "print(\"After:\", global_var)  # After function call\n"
   ]
  },
  {
   "cell_type": "markdown",
   "id": "73ae99ca",
   "metadata": {},
   "source": [
    "# 10. What is the data type of None?\n",
    "\n",
    "# Ans.\n",
    "\n",
    "In Python, None is a special constant that represents the absence of a value or a null value. It is often used to indicate that a variable or expression doesn't have a meaningful value assigned to it.\n",
    "\n",
    "The data type of None is called NoneType.\n",
    "\n",
    "Eg."
   ]
  },
  {
   "cell_type": "code",
   "execution_count": 14,
   "id": "533c6f81",
   "metadata": {},
   "outputs": [
    {
     "name": "stdout",
     "output_type": "stream",
     "text": [
      "<class 'NoneType'>\n"
     ]
    }
   ],
   "source": [
    "value = None\n",
    "print(type(value))  # Output: <class 'NoneType'>\n"
   ]
  },
  {
   "cell_type": "markdown",
   "id": "0c01ee0a",
   "metadata": {},
   "source": [
    "# 11. What does the sentence import areallyourpetsnamederic do?\n",
    "\n",
    "# Ans.\n",
    "\n",
    "In Python, the import keyword is used to import modules or packages, which are collections of functions, classes, and variables that we can use in our code. \n",
    "\n",
    "The text \"areallyourpetsnamederic\" does not correspond to any valid Python module or package name.\n",
    "\n",
    "Eg."
   ]
  },
  {
   "cell_type": "code",
   "execution_count": 15,
   "id": "5ac4f1bc",
   "metadata": {},
   "outputs": [
    {
     "ename": "ModuleNotFoundError",
     "evalue": "No module named 'areallyourpetsnamederic'",
     "output_type": "error",
     "traceback": [
      "\u001b[1;31m---------------------------------------------------------------------------\u001b[0m",
      "\u001b[1;31mModuleNotFoundError\u001b[0m                       Traceback (most recent call last)",
      "\u001b[1;32m~\\AppData\\Local\\Temp\\ipykernel_24720\\51184242.py\u001b[0m in \u001b[0;36m<module>\u001b[1;34m\u001b[0m\n\u001b[1;32m----> 1\u001b[1;33m \u001b[1;32mimport\u001b[0m \u001b[0mareallyourpetsnamederic\u001b[0m\u001b[1;33m\u001b[0m\u001b[1;33m\u001b[0m\u001b[0m\n\u001b[0m",
      "\u001b[1;31mModuleNotFoundError\u001b[0m: No module named 'areallyourpetsnamederic'"
     ]
    }
   ],
   "source": [
    "import areallyourpetsnamederic"
   ]
  },
  {
   "cell_type": "markdown",
   "id": "e031f2e3",
   "metadata": {},
   "source": [
    "# 12. If you had a bacon() feature in a spam module, what would you call it after importing spam?\n",
    "\n",
    "# Ans.\n",
    "\n",
    "If we have a function named bacon() defined within a module named spam, and we want to use that function after importing the spam module, we would call it using the syntax spam.bacon().\n",
    "\n",
    "See code below"
   ]
  },
  {
   "cell_type": "code",
   "execution_count": 16,
   "id": "d9c6830d",
   "metadata": {},
   "outputs": [],
   "source": [
    "def bacon():\n",
    "    print(\"This is the bacon function in the spam module\")\n"
   ]
  },
  {
   "cell_type": "code",
   "execution_count": null,
   "id": "b6f4d902",
   "metadata": {},
   "outputs": [],
   "source": [
    "import spam\n",
    "\n",
    "spam.bacon()  # Calling the bacon() function from the spam module\n"
   ]
  },
  {
   "cell_type": "markdown",
   "id": "869da6c3",
   "metadata": {},
   "source": [
    "# 13. What can you do to save a programme from crashing if it encounters an error?\n",
    "\n",
    "# Ans.\n",
    "\n",
    "To prevent a program from crashing when encountering an error, we can implement exception handling techniques. In Python, the primary mechanism for handling errors is using try-except blocks.\n",
    "\n",
    "Eg."
   ]
  },
  {
   "cell_type": "code",
   "execution_count": 18,
   "id": "a833a19a",
   "metadata": {},
   "outputs": [
    {
     "name": "stdout",
     "output_type": "stream",
     "text": [
      "An error occurred: Division by zero\n"
     ]
    }
   ],
   "source": [
    "try:\n",
    "    \n",
    "    result = 10 / 0  # This will raise a ZeroDivisionError\n",
    "except ZeroDivisionError:\n",
    "    print(\"An error occurred: Division by zero\")\n"
   ]
  },
  {
   "cell_type": "markdown",
   "id": "03a3060e",
   "metadata": {},
   "source": [
    "# 14. What is the purpose of the try clause? What is the purpose of the except clause?\n",
    "\n",
    "# Ans.\n",
    "\n",
    "Purpose of the try Clause:\n",
    "The try clause is used to enclose a block of code that might raise exceptions. It allows you to test a piece of code for errors without actually crashing the program if an exception occurs. The code within the try block is monitored for exceptions, and if an exception occurs, the program jumps to the appropriate except block (if one is defined) to handle the exception.\n",
    "\n",
    "Purpose of the except Clause:\n",
    "The except clause is used to define what action should be taken if a specific type of exception occurs within the corresponding try block. Each except block follows the try block and specifies which type of exception it should handle. If an exception of the specified type is raised in the try block, the program will execute the code within the corresponding except block.\n",
    "\n",
    "Eg.\n"
   ]
  },
  {
   "cell_type": "code",
   "execution_count": 21,
   "id": "155e0405",
   "metadata": {},
   "outputs": [
    {
     "name": "stdout",
     "output_type": "stream",
     "text": [
      "An error occurred: Division by zero\n"
     ]
    }
   ],
   "source": [
    "try:\n",
    "   \n",
    "    result = 10 / 0  # This might raise a ZeroDivisionError\n",
    "except ZeroDivisionError:\n",
    "    print(\"An error occurred: Division by zero\")\n"
   ]
  },
  {
   "cell_type": "code",
   "execution_count": null,
   "id": "75021c38",
   "metadata": {},
   "outputs": [],
   "source": []
  }
 ],
 "metadata": {
  "kernelspec": {
   "display_name": "Python 3 (ipykernel)",
   "language": "python",
   "name": "python3"
  },
  "language_info": {
   "codemirror_mode": {
    "name": "ipython",
    "version": 3
   },
   "file_extension": ".py",
   "mimetype": "text/x-python",
   "name": "python",
   "nbconvert_exporter": "python",
   "pygments_lexer": "ipython3",
   "version": "3.9.13"
  }
 },
 "nbformat": 4,
 "nbformat_minor": 5
}
